{
 "cells": [
  {
   "cell_type": "code",
   "execution_count": 6,
   "metadata": {},
   "outputs": [],
   "source": [
    "# Step 1: Import Libraries and Load the Model\n",
    "import numpy as np\n",
    "import tensorflow as tf\n",
    "from tensorflow.keras.datasets import imdb\n",
    "from tensorflow.keras.preprocessing import sequence\n",
    "from tensorflow.keras.models import load_model"
   ]
  },
  {
   "cell_type": "code",
   "execution_count": 7,
   "metadata": {},
   "outputs": [],
   "source": [
    "\n",
    "# Load the IMDB dataset word index\n",
    "word_index = imdb.get_word_index()\n",
    "reverse_word_index = {value: key for key, value in word_index.items()}"
   ]
  },
  {
   "cell_type": "code",
   "execution_count": 9,
   "metadata": {},
   "outputs": [
    {
     "name": "stderr",
     "output_type": "stream",
     "text": [
      "WARNING:absl:Compiled the loaded model, but the compiled metrics have yet to be built. `model.compile_metrics` will be empty until you train or evaluate the model.\n"
     ]
    },
    {
     "data": {
      "text/html": [
       "<pre style=\"white-space:pre;overflow-x:auto;line-height:normal;font-family:Menlo,'DejaVu Sans Mono',consolas,'Courier New',monospace\"><span style=\"font-weight: bold\">Model: \"sequential_7\"</span>\n",
       "</pre>\n"
      ],
      "text/plain": [
       "\u001b[1mModel: \"sequential_7\"\u001b[0m\n"
      ]
     },
     "metadata": {},
     "output_type": "display_data"
    },
    {
     "data": {
      "text/html": [
       "<pre style=\"white-space:pre;overflow-x:auto;line-height:normal;font-family:Menlo,'DejaVu Sans Mono',consolas,'Courier New',monospace\">┏━━━━━━━━━━━━━━━━━━━━━━━━━━━━━━━━━┳━━━━━━━━━━━━━━━━━━━━━━━━┳━━━━━━━━━━━━━━━┓\n",
       "┃<span style=\"font-weight: bold\"> Layer (type)                    </span>┃<span style=\"font-weight: bold\"> Output Shape           </span>┃<span style=\"font-weight: bold\">       Param # </span>┃\n",
       "┡━━━━━━━━━━━━━━━━━━━━━━━━━━━━━━━━━╇━━━━━━━━━━━━━━━━━━━━━━━━╇━━━━━━━━━━━━━━━┩\n",
       "│ embedding_6 (<span style=\"color: #0087ff; text-decoration-color: #0087ff\">Embedding</span>)         │ (<span style=\"color: #00d7ff; text-decoration-color: #00d7ff\">None</span>, <span style=\"color: #00af00; text-decoration-color: #00af00\">500</span>, <span style=\"color: #00af00; text-decoration-color: #00af00\">128</span>)       │     <span style=\"color: #00af00; text-decoration-color: #00af00\">1,280,000</span> │\n",
       "├─────────────────────────────────┼────────────────────────┼───────────────┤\n",
       "│ simple_rnn_6 (<span style=\"color: #0087ff; text-decoration-color: #0087ff\">SimpleRNN</span>)        │ (<span style=\"color: #00d7ff; text-decoration-color: #00d7ff\">None</span>, <span style=\"color: #00af00; text-decoration-color: #00af00\">128</span>)            │        <span style=\"color: #00af00; text-decoration-color: #00af00\">32,896</span> │\n",
       "├─────────────────────────────────┼────────────────────────┼───────────────┤\n",
       "│ dense_6 (<span style=\"color: #0087ff; text-decoration-color: #0087ff\">Dense</span>)                 │ (<span style=\"color: #00d7ff; text-decoration-color: #00d7ff\">None</span>, <span style=\"color: #00af00; text-decoration-color: #00af00\">1</span>)              │           <span style=\"color: #00af00; text-decoration-color: #00af00\">129</span> │\n",
       "└─────────────────────────────────┴────────────────────────┴───────────────┘\n",
       "</pre>\n"
      ],
      "text/plain": [
       "┏━━━━━━━━━━━━━━━━━━━━━━━━━━━━━━━━━┳━━━━━━━━━━━━━━━━━━━━━━━━┳━━━━━━━━━━━━━━━┓\n",
       "┃\u001b[1m \u001b[0m\u001b[1mLayer (type)                   \u001b[0m\u001b[1m \u001b[0m┃\u001b[1m \u001b[0m\u001b[1mOutput Shape          \u001b[0m\u001b[1m \u001b[0m┃\u001b[1m \u001b[0m\u001b[1m      Param #\u001b[0m\u001b[1m \u001b[0m┃\n",
       "┡━━━━━━━━━━━━━━━━━━━━━━━━━━━━━━━━━╇━━━━━━━━━━━━━━━━━━━━━━━━╇━━━━━━━━━━━━━━━┩\n",
       "│ embedding_6 (\u001b[38;5;33mEmbedding\u001b[0m)         │ (\u001b[38;5;45mNone\u001b[0m, \u001b[38;5;34m500\u001b[0m, \u001b[38;5;34m128\u001b[0m)       │     \u001b[38;5;34m1,280,000\u001b[0m │\n",
       "├─────────────────────────────────┼────────────────────────┼───────────────┤\n",
       "│ simple_rnn_6 (\u001b[38;5;33mSimpleRNN\u001b[0m)        │ (\u001b[38;5;45mNone\u001b[0m, \u001b[38;5;34m128\u001b[0m)            │        \u001b[38;5;34m32,896\u001b[0m │\n",
       "├─────────────────────────────────┼────────────────────────┼───────────────┤\n",
       "│ dense_6 (\u001b[38;5;33mDense\u001b[0m)                 │ (\u001b[38;5;45mNone\u001b[0m, \u001b[38;5;34m1\u001b[0m)              │           \u001b[38;5;34m129\u001b[0m │\n",
       "└─────────────────────────────────┴────────────────────────┴───────────────┘\n"
      ]
     },
     "metadata": {},
     "output_type": "display_data"
    },
    {
     "data": {
      "text/html": [
       "<pre style=\"white-space:pre;overflow-x:auto;line-height:normal;font-family:Menlo,'DejaVu Sans Mono',consolas,'Courier New',monospace\"><span style=\"font-weight: bold\"> Total params: </span><span style=\"color: #00af00; text-decoration-color: #00af00\">1,313,027</span> (5.01 MB)\n",
       "</pre>\n"
      ],
      "text/plain": [
       "\u001b[1m Total params: \u001b[0m\u001b[38;5;34m1,313,027\u001b[0m (5.01 MB)\n"
      ]
     },
     "metadata": {},
     "output_type": "display_data"
    },
    {
     "data": {
      "text/html": [
       "<pre style=\"white-space:pre;overflow-x:auto;line-height:normal;font-family:Menlo,'DejaVu Sans Mono',consolas,'Courier New',monospace\"><span style=\"font-weight: bold\"> Trainable params: </span><span style=\"color: #00af00; text-decoration-color: #00af00\">1,313,025</span> (5.01 MB)\n",
       "</pre>\n"
      ],
      "text/plain": [
       "\u001b[1m Trainable params: \u001b[0m\u001b[38;5;34m1,313,025\u001b[0m (5.01 MB)\n"
      ]
     },
     "metadata": {},
     "output_type": "display_data"
    },
    {
     "data": {
      "text/html": [
       "<pre style=\"white-space:pre;overflow-x:auto;line-height:normal;font-family:Menlo,'DejaVu Sans Mono',consolas,'Courier New',monospace\"><span style=\"font-weight: bold\"> Non-trainable params: </span><span style=\"color: #00af00; text-decoration-color: #00af00\">0</span> (0.00 B)\n",
       "</pre>\n"
      ],
      "text/plain": [
       "\u001b[1m Non-trainable params: \u001b[0m\u001b[38;5;34m0\u001b[0m (0.00 B)\n"
      ]
     },
     "metadata": {},
     "output_type": "display_data"
    },
    {
     "data": {
      "text/html": [
       "<pre style=\"white-space:pre;overflow-x:auto;line-height:normal;font-family:Menlo,'DejaVu Sans Mono',consolas,'Courier New',monospace\"><span style=\"font-weight: bold\"> Optimizer params: </span><span style=\"color: #00af00; text-decoration-color: #00af00\">2</span> (12.00 B)\n",
       "</pre>\n"
      ],
      "text/plain": [
       "\u001b[1m Optimizer params: \u001b[0m\u001b[38;5;34m2\u001b[0m (12.00 B)\n"
      ]
     },
     "metadata": {},
     "output_type": "display_data"
    }
   ],
   "source": [
    "# Load the pre-trained model with ReLU activation\n",
    "model = load_model('RNN-imdb-review-model.h5')\n",
    "model.summary()"
   ]
  },
  {
   "cell_type": "code",
   "execution_count": 10,
   "metadata": {},
   "outputs": [
    {
     "data": {
      "text/plain": [
       "[array([[-0.94502425, -0.2446351 , -0.05294125, ..., -0.4030167 ,\n",
       "         -0.48533872,  0.3699852 ],\n",
       "        [-0.12468537,  0.07629795, -0.08606759, ..., -0.01409085,\n",
       "         -0.02110798, -0.11374288],\n",
       "        [-0.10567223,  0.02663181,  0.01285966, ..., -0.02735278,\n",
       "         -0.1552579 ,  0.07465772],\n",
       "        ...,\n",
       "        [ 0.02112469, -0.03513951, -0.0573428 , ..., -0.0441459 ,\n",
       "          0.01568577, -0.07852916],\n",
       "        [ 0.08613203, -0.02811766,  0.08987025, ..., -0.00241633,\n",
       "         -0.01496173,  0.06648807],\n",
       "        [ 0.0919343 , -0.02743965, -0.14419857, ...,  0.04404106,\n",
       "          0.12359589, -0.09514191]], dtype=float32),\n",
       " array([[-0.06309754,  0.10401481, -0.04326991, ...,  0.17687692,\n",
       "          0.13906902,  0.19225843],\n",
       "        [ 0.21769783, -0.08365781,  0.15795648, ..., -0.36386546,\n",
       "         -0.15340184, -0.07989429],\n",
       "        [ 0.1046807 ,  0.2260183 ,  0.00102649, ...,  0.27495092,\n",
       "          0.06359807,  0.01668838],\n",
       "        ...,\n",
       "        [ 0.02214944, -0.1517136 ,  0.02988816, ..., -0.05787998,\n",
       "          0.02792648, -0.07535649],\n",
       "        [ 0.12983441, -0.03823726, -0.20266579, ..., -0.02064469,\n",
       "         -0.07733469, -0.00551802],\n",
       "        [ 0.19537689,  0.15069275, -0.01187265, ...,  0.1336338 ,\n",
       "          0.13130149,  0.06591314]], dtype=float32),\n",
       " array([[-0.21254775, -0.09931865, -0.10338257, ..., -0.01822112,\n",
       "         -0.02647811,  0.010768  ],\n",
       "        [-0.02217817, -0.01564025,  0.09357727, ...,  0.17919946,\n",
       "          0.13060074,  0.04141693],\n",
       "        [ 0.08787545,  0.23562588,  0.15340474, ...,  0.01504386,\n",
       "          0.06424299, -0.09394255],\n",
       "        ...,\n",
       "        [ 0.13037035,  0.1194189 , -0.05073158, ..., -0.03459779,\n",
       "         -0.0966432 ,  0.01280913],\n",
       "        [-0.02852997, -0.02781562, -0.07652944, ..., -0.04578495,\n",
       "          0.07394601,  0.08077673],\n",
       "        [ 0.00198072,  0.17031632,  0.2105964 , ..., -0.02075429,\n",
       "         -0.05386041, -0.08222784]], dtype=float32),\n",
       " array([ 0.03709522, -0.03792726,  0.04968471, -0.00995797, -0.05706792,\n",
       "        -0.0525828 , -0.02047356,  0.00654799, -0.07110397, -0.0230534 ,\n",
       "         0.03074143,  0.02178936, -0.04067213, -0.01606151,  0.01124449,\n",
       "        -0.00110829, -0.02316774,  0.00471788, -0.05095025, -0.04796378,\n",
       "        -0.04631347,  0.03322181,  0.00756713,  0.03934392,  0.01257381,\n",
       "        -0.08971076, -0.06231562, -0.01062741, -0.00704682, -0.01394751,\n",
       "        -0.0058883 ,  0.00101362,  0.00738397,  0.0030775 , -0.00934356,\n",
       "        -0.04680885, -0.00471897,  0.01084659, -0.01748761,  0.07477973,\n",
       "        -0.04813965, -0.01027272, -0.04979331,  0.00417994,  0.04428853,\n",
       "         0.00706047, -0.04123756,  0.02418623, -0.01808115, -0.0384649 ,\n",
       "        -0.00161284,  0.0477685 ,  0.03256438, -0.04838805,  0.08887228,\n",
       "        -0.0212657 ,  0.03995178, -0.01311305, -0.00313103, -0.01047625,\n",
       "         0.0004162 , -0.07196846,  0.02467715,  0.08354133,  0.03617739,\n",
       "        -0.02754322,  0.04223816,  0.0391739 , -0.00066339,  0.02913295,\n",
       "        -0.02163012,  0.03653476, -0.03576446, -0.00210126, -0.04650368,\n",
       "         0.03264988, -0.06539326, -0.01480989,  0.02957833, -0.02590238,\n",
       "         0.0302683 , -0.00288366, -0.0135182 , -0.04844987,  0.03001394,\n",
       "        -0.00941043,  0.01468652,  0.00741171,  0.061899  ,  0.0605707 ,\n",
       "        -0.04965854, -0.05361153,  0.02837444, -0.02076414,  0.02422094,\n",
       "         0.03768586,  0.06203303,  0.02961521, -0.02423201,  0.0363945 ,\n",
       "         0.00358537,  0.00626623, -0.05676736, -0.01289301,  0.10084614,\n",
       "        -0.03126382,  0.05475478,  0.00998735, -0.01119772,  0.02511766,\n",
       "        -0.0362174 ,  0.0063286 , -0.01253157,  0.05020735, -0.04094671,\n",
       "         0.0085668 , -0.00944502,  0.02079319, -0.02808688, -0.06161114,\n",
       "        -0.04164899, -0.02179161, -0.04570652, -0.05811018,  0.04117738,\n",
       "         0.0158816 , -0.02803832, -0.05677426], dtype=float32),\n",
       " array([[-0.17135622],\n",
       "        [-0.55831254],\n",
       "        [ 0.08909512],\n",
       "        [-0.2605721 ],\n",
       "        [ 0.26902235],\n",
       "        [-0.2611162 ],\n",
       "        [-0.11239334],\n",
       "        [-0.17992786],\n",
       "        [ 0.25105792],\n",
       "        [ 0.22802402],\n",
       "        [-0.05298649],\n",
       "        [ 0.05905669],\n",
       "        [ 0.09602283],\n",
       "        [ 0.11968433],\n",
       "        [ 0.10043413],\n",
       "        [ 0.08332883],\n",
       "        [ 0.4222828 ],\n",
       "        [ 0.18819007],\n",
       "        [ 0.18864039],\n",
       "        [ 0.15414262],\n",
       "        [ 0.21382678],\n",
       "        [-0.10054056],\n",
       "        [ 0.01298515],\n",
       "        [-0.09144871],\n",
       "        [ 0.02235025],\n",
       "        [ 0.19085471],\n",
       "        [ 0.0995674 ],\n",
       "        [-0.01910723],\n",
       "        [ 0.20175685],\n",
       "        [ 0.16987383],\n",
       "        [-0.20557973],\n",
       "        [ 0.09044201],\n",
       "        [ 0.09108323],\n",
       "        [ 0.07689252],\n",
       "        [ 0.15083121],\n",
       "        [-0.22708437],\n",
       "        [ 0.19581887],\n",
       "        [-0.21433796],\n",
       "        [ 0.20160176],\n",
       "        [-0.06754752],\n",
       "        [ 0.25500414],\n",
       "        [-0.01624237],\n",
       "        [ 0.0893705 ],\n",
       "        [ 0.21554244],\n",
       "        [ 0.22293463],\n",
       "        [ 0.12741405],\n",
       "        [-0.00703514],\n",
       "        [ 0.12903519],\n",
       "        [ 0.04580645],\n",
       "        [ 0.12482703],\n",
       "        [-0.29119828],\n",
       "        [-0.15319674],\n",
       "        [-0.13678437],\n",
       "        [ 0.1315436 ],\n",
       "        [ 0.48183507],\n",
       "        [-0.1959626 ],\n",
       "        [ 0.39353815],\n",
       "        [-0.12058965],\n",
       "        [ 0.363853  ],\n",
       "        [ 0.15871549],\n",
       "        [-0.01522549],\n",
       "        [ 0.05497931],\n",
       "        [ 0.21932758],\n",
       "        [ 0.37624964],\n",
       "        [ 0.03108149],\n",
       "        [-0.06440946],\n",
       "        [ 0.132727  ],\n",
       "        [-0.01758997],\n",
       "        [ 0.10802038],\n",
       "        [ 0.4267799 ],\n",
       "        [ 0.01506787],\n",
       "        [-0.08881421],\n",
       "        [-0.05270422],\n",
       "        [ 0.18029445],\n",
       "        [-0.02947943],\n",
       "        [ 0.3028434 ],\n",
       "        [ 0.04904077],\n",
       "        [-0.08268692],\n",
       "        [-0.18373908],\n",
       "        [-0.0313224 ],\n",
       "        [ 0.17400157],\n",
       "        [ 0.08894796],\n",
       "        [-0.07589413],\n",
       "        [ 0.14945748],\n",
       "        [-0.3986399 ],\n",
       "        [-0.27926043],\n",
       "        [ 0.08050724],\n",
       "        [ 0.14929017],\n",
       "        [ 0.00213471],\n",
       "        [-0.17177333],\n",
       "        [ 0.01873173],\n",
       "        [ 0.13631183],\n",
       "        [ 0.08803124],\n",
       "        [-0.03432409],\n",
       "        [ 0.09491046],\n",
       "        [ 0.20839263],\n",
       "        [ 0.02772906],\n",
       "        [-0.00922051],\n",
       "        [-0.17761302],\n",
       "        [ 0.10972524],\n",
       "        [-0.12334959],\n",
       "        [ 0.2048662 ],\n",
       "        [-0.05911896],\n",
       "        [-0.2498903 ],\n",
       "        [-0.29462126],\n",
       "        [-0.06200432],\n",
       "        [-0.02027409],\n",
       "        [-0.48473915],\n",
       "        [-0.09999767],\n",
       "        [-0.32325104],\n",
       "        [-0.03735548],\n",
       "        [-0.24253447],\n",
       "        [ 0.08254203],\n",
       "        [-0.04884151],\n",
       "        [ 0.18036234],\n",
       "        [ 0.29303744],\n",
       "        [-0.08801395],\n",
       "        [-0.0807045 ],\n",
       "        [-0.2129138 ],\n",
       "        [ 0.27720192],\n",
       "        [ 0.07838231],\n",
       "        [-0.10849331],\n",
       "        [ 0.07979552],\n",
       "        [ 0.06650197],\n",
       "        [-0.1575052 ],\n",
       "        [-0.2912222 ],\n",
       "        [-0.13384084],\n",
       "        [ 0.16801065]], dtype=float32),\n",
       " array([0.60364616], dtype=float32)]"
      ]
     },
     "execution_count": 10,
     "metadata": {},
     "output_type": "execute_result"
    }
   ],
   "source": [
    "model.get_weights()"
   ]
  },
  {
   "cell_type": "code",
   "execution_count": 11,
   "metadata": {},
   "outputs": [],
   "source": [
    "# Step 2: Helper Functions\n",
    "# Function to decode reviews\n",
    "def decode_review(encoded_review):\n",
    "    return ' '.join([reverse_word_index.get(i - 3, '?') for i in encoded_review])\n",
    "\n",
    "# Function to preprocess user input\n",
    "def preprocess_text(text):\n",
    "    words = text.lower().split()\n",
    "    encoded_review = [word_index.get(word, 2) + 3 for word in words]\n",
    "    padded_review = sequence.pad_sequences([encoded_review], maxlen=500)\n",
    "    return padded_review"
   ]
  },
  {
   "cell_type": "code",
   "execution_count": 12,
   "metadata": {},
   "outputs": [],
   "source": [
    "### Prediction  function\n",
    "\n",
    "def predict_sentiment(review):\n",
    "    preprocessed_input=preprocess_text(review)\n",
    "\n",
    "    prediction=model.predict(preprocessed_input)\n",
    "\n",
    "    sentiment = 'Positive' if prediction[0][0] > 0.5 else 'Negative'\n",
    "    \n",
    "    return sentiment, prediction[0][0]\n",
    "\n"
   ]
  },
  {
   "cell_type": "code",
   "execution_count": 14,
   "metadata": {},
   "outputs": [
    {
     "name": "stdout",
     "output_type": "stream",
     "text": [
      "\u001b[1m1/1\u001b[0m \u001b[32m━━━━━━━━━━━━━━━━━━━━\u001b[0m\u001b[37m\u001b[0m \u001b[1m0s\u001b[0m 25ms/step\n",
      "Review: A breathtaking adventure with stunning visuals, compelling characters, and a gripping storyline that keeps you hooked until the very end!\n",
      "Sentiment: Positive\n",
      "Prediction Score: 0.9826505184173584\n"
     ]
    }
   ],
   "source": [
    "# Step 4: User Input and Prediction\n",
    "# Example review for prediction\n",
    "example_review = \"A breathtaking adventure with stunning visuals, compelling characters, and a gripping storyline that keeps you hooked until the very end!\"\n",
    "\n",
    "sentiment,score=predict_sentiment(example_review)\n",
    "\n",
    "print(f'Review: {example_review}')\n",
    "print(f'Sentiment: {sentiment}')\n",
    "print(f'Prediction Score: {score}')"
   ]
  },
  {
   "cell_type": "code",
   "execution_count": null,
   "metadata": {},
   "outputs": [],
   "source": []
  },
  {
   "cell_type": "code",
   "execution_count": null,
   "metadata": {},
   "outputs": [],
   "source": []
  },
  {
   "cell_type": "code",
   "execution_count": null,
   "metadata": {},
   "outputs": [],
   "source": []
  },
  {
   "cell_type": "code",
   "execution_count": null,
   "metadata": {},
   "outputs": [],
   "source": []
  }
 ],
 "metadata": {
  "kernelspec": {
   "display_name": "Python 3 (ipykernel)",
   "language": "python",
   "name": "python3"
  },
  "language_info": {
   "codemirror_mode": {
    "name": "ipython",
    "version": 3
   },
   "file_extension": ".py",
   "mimetype": "text/x-python",
   "name": "python",
   "nbconvert_exporter": "python",
   "pygments_lexer": "ipython3",
   "version": "3.10.13"
  }
 },
 "nbformat": 4,
 "nbformat_minor": 4
}
