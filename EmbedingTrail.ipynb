{
 "cells": [
  {
   "cell_type": "code",
   "execution_count": 1,
   "id": "42fdc78c-b6c3-4057-bcd1-518c41541e74",
   "metadata": {},
   "outputs": [
    {
     "name": "stderr",
     "output_type": "stream",
     "text": [
      "/Users/kishan/Desktop/python/env/lib/python3.10/site-packages/pandas/core/arrays/masked.py:60: UserWarning: Pandas requires version '1.3.6' or newer of 'bottleneck' (version '1.3.5' currently installed).\n",
      "  from pandas.core import (\n"
     ]
    }
   ],
   "source": [
    "import tensorflow as tf"
   ]
  },
  {
   "cell_type": "code",
   "execution_count": 2,
   "id": "f9e99a0b-a7a4-4593-b11f-7f328886d84f",
   "metadata": {},
   "outputs": [],
   "source": [
    "from tensorflow.keras.preprocessing.text import one_hot"
   ]
  },
  {
   "cell_type": "code",
   "execution_count": 3,
   "id": "b5b07ab2-7c71-4225-bbbe-9043b40968d5",
   "metadata": {},
   "outputs": [],
   "source": [
    "### sentences\n",
    "sent=['the glass of milk',\n",
    "     'the glass of juice',\n",
    "     'the cup of tea',\n",
    "    'I am a good boy',\n",
    "     'I am a good developer',\n",
    "     'understand the meaning of words',\n",
    "     'your videos are good',]"
   ]
  },
  {
   "cell_type": "code",
   "execution_count": 4,
   "id": "2b202948-5755-40e4-9a4b-eab98242a4b0",
   "metadata": {},
   "outputs": [],
   "source": [
    "voc=10000"
   ]
  },
  {
   "cell_type": "code",
   "execution_count": 5,
   "id": "b3bcf7f8-543a-442e-ade6-a2be3cbab1e9",
   "metadata": {},
   "outputs": [
    {
     "data": {
      "text/plain": [
       "[[9806, 2732, 6503, 9472],\n",
       " [9806, 2732, 6503, 2875],\n",
       " [9806, 6569, 6503, 8298],\n",
       " [1976, 5742, 705, 8842, 3431],\n",
       " [1976, 5742, 705, 8842, 7048],\n",
       " [5782, 9806, 3175, 6503, 4481],\n",
       " [982, 1746, 582, 8842]]"
      ]
     },
     "execution_count": 5,
     "metadata": {},
     "output_type": "execute_result"
    }
   ],
   "source": [
    "# one hot rep\n",
    "one_hot_rep=[one_hot(words,voc)for words in sent]\n",
    "one_hot_rep"
   ]
  },
  {
   "cell_type": "code",
   "execution_count": 6,
   "id": "5fcfdda0-a813-44fe-8a6b-13f69008c149",
   "metadata": {},
   "outputs": [],
   "source": [
    "from tensorflow.keras.layers import Embedding\n",
    "from tensorflow.keras.utils import pad_sequences\n",
    "from tensorflow.keras.models import Sequential"
   ]
  },
  {
   "cell_type": "code",
   "execution_count": 7,
   "id": "5976b90c-dde1-40e1-a60e-25dbe96df4a5",
   "metadata": {},
   "outputs": [],
   "source": [
    "sent_l=6\n",
    "embedded_doc=pad_sequences(one_hot_rep,padding='pre',maxlen=sent_l)"
   ]
  },
  {
   "cell_type": "code",
   "execution_count": 8,
   "id": "36cf884b-154e-4ff3-add3-7bc3d37b9981",
   "metadata": {},
   "outputs": [
    {
     "data": {
      "text/plain": [
       "array([[   0,    0, 9806, 2732, 6503, 9472],\n",
       "       [   0,    0, 9806, 2732, 6503, 2875],\n",
       "       [   0,    0, 9806, 6569, 6503, 8298],\n",
       "       [   0, 1976, 5742,  705, 8842, 3431],\n",
       "       [   0, 1976, 5742,  705, 8842, 7048],\n",
       "       [   0, 5782, 9806, 3175, 6503, 4481],\n",
       "       [   0,    0,  982, 1746,  582, 8842]], dtype=int32)"
      ]
     },
     "execution_count": 8,
     "metadata": {},
     "output_type": "execute_result"
    }
   ],
   "source": [
    "embedded_doc"
   ]
  },
  {
   "cell_type": "code",
   "execution_count": 9,
   "id": "c768b57d-ace0-4c25-97ea-00c79e00ba9d",
   "metadata": {},
   "outputs": [],
   "source": [
    "dim=10"
   ]
  },
  {
   "cell_type": "code",
   "execution_count": 13,
   "id": "21e21294-d22f-4372-b399-d2d87917a5ff",
   "metadata": {},
   "outputs": [],
   "source": [
    "model=Sequential()\n",
    "model.add(Embedding(voc,dim))\n",
    "\n",
    "model.build(input_shape=(None, sent_l)) \n",
    "model.compile('adam','mse')"
   ]
  },
  {
   "cell_type": "code",
   "execution_count": 14,
   "id": "65997780-35fb-4d83-8fcb-d11697dc9a3d",
   "metadata": {},
   "outputs": [
    {
     "data": {
      "text/html": [
       "<pre style=\"white-space:pre;overflow-x:auto;line-height:normal;font-family:Menlo,'DejaVu Sans Mono',consolas,'Courier New',monospace\"><span style=\"font-weight: bold\">Model: \"sequential_1\"</span>\n",
       "</pre>\n"
      ],
      "text/plain": [
       "\u001b[1mModel: \"sequential_1\"\u001b[0m\n"
      ]
     },
     "metadata": {},
     "output_type": "display_data"
    },
    {
     "data": {
      "text/html": [
       "<pre style=\"white-space:pre;overflow-x:auto;line-height:normal;font-family:Menlo,'DejaVu Sans Mono',consolas,'Courier New',monospace\">┏━━━━━━━━━━━━━━━━━━━━━━━━━━━━━━━━━┳━━━━━━━━━━━━━━━━━━━━━━━━┳━━━━━━━━━━━━━━━┓\n",
       "┃<span style=\"font-weight: bold\"> Layer (type)                    </span>┃<span style=\"font-weight: bold\"> Output Shape           </span>┃<span style=\"font-weight: bold\">       Param # </span>┃\n",
       "┡━━━━━━━━━━━━━━━━━━━━━━━━━━━━━━━━━╇━━━━━━━━━━━━━━━━━━━━━━━━╇━━━━━━━━━━━━━━━┩\n",
       "│ embedding_1 (<span style=\"color: #0087ff; text-decoration-color: #0087ff\">Embedding</span>)         │ (<span style=\"color: #00d7ff; text-decoration-color: #00d7ff\">None</span>, <span style=\"color: #00af00; text-decoration-color: #00af00\">6</span>, <span style=\"color: #00af00; text-decoration-color: #00af00\">10</span>)          │       <span style=\"color: #00af00; text-decoration-color: #00af00\">100,000</span> │\n",
       "└─────────────────────────────────┴────────────────────────┴───────────────┘\n",
       "</pre>\n"
      ],
      "text/plain": [
       "┏━━━━━━━━━━━━━━━━━━━━━━━━━━━━━━━━━┳━━━━━━━━━━━━━━━━━━━━━━━━┳━━━━━━━━━━━━━━━┓\n",
       "┃\u001b[1m \u001b[0m\u001b[1mLayer (type)                   \u001b[0m\u001b[1m \u001b[0m┃\u001b[1m \u001b[0m\u001b[1mOutput Shape          \u001b[0m\u001b[1m \u001b[0m┃\u001b[1m \u001b[0m\u001b[1m      Param #\u001b[0m\u001b[1m \u001b[0m┃\n",
       "┡━━━━━━━━━━━━━━━━━━━━━━━━━━━━━━━━━╇━━━━━━━━━━━━━━━━━━━━━━━━╇━━━━━━━━━━━━━━━┩\n",
       "│ embedding_1 (\u001b[38;5;33mEmbedding\u001b[0m)         │ (\u001b[38;5;45mNone\u001b[0m, \u001b[38;5;34m6\u001b[0m, \u001b[38;5;34m10\u001b[0m)          │       \u001b[38;5;34m100,000\u001b[0m │\n",
       "└─────────────────────────────────┴────────────────────────┴───────────────┘\n"
      ]
     },
     "metadata": {},
     "output_type": "display_data"
    },
    {
     "data": {
      "text/html": [
       "<pre style=\"white-space:pre;overflow-x:auto;line-height:normal;font-family:Menlo,'DejaVu Sans Mono',consolas,'Courier New',monospace\"><span style=\"font-weight: bold\"> Total params: </span><span style=\"color: #00af00; text-decoration-color: #00af00\">100,000</span> (390.62 KB)\n",
       "</pre>\n"
      ],
      "text/plain": [
       "\u001b[1m Total params: \u001b[0m\u001b[38;5;34m100,000\u001b[0m (390.62 KB)\n"
      ]
     },
     "metadata": {},
     "output_type": "display_data"
    },
    {
     "data": {
      "text/html": [
       "<pre style=\"white-space:pre;overflow-x:auto;line-height:normal;font-family:Menlo,'DejaVu Sans Mono',consolas,'Courier New',monospace\"><span style=\"font-weight: bold\"> Trainable params: </span><span style=\"color: #00af00; text-decoration-color: #00af00\">100,000</span> (390.62 KB)\n",
       "</pre>\n"
      ],
      "text/plain": [
       "\u001b[1m Trainable params: \u001b[0m\u001b[38;5;34m100,000\u001b[0m (390.62 KB)\n"
      ]
     },
     "metadata": {},
     "output_type": "display_data"
    },
    {
     "data": {
      "text/html": [
       "<pre style=\"white-space:pre;overflow-x:auto;line-height:normal;font-family:Menlo,'DejaVu Sans Mono',consolas,'Courier New',monospace\"><span style=\"font-weight: bold\"> Non-trainable params: </span><span style=\"color: #00af00; text-decoration-color: #00af00\">0</span> (0.00 B)\n",
       "</pre>\n"
      ],
      "text/plain": [
       "\u001b[1m Non-trainable params: \u001b[0m\u001b[38;5;34m0\u001b[0m (0.00 B)\n"
      ]
     },
     "metadata": {},
     "output_type": "display_data"
    }
   ],
   "source": [
    "model.summary()"
   ]
  },
  {
   "cell_type": "code",
   "execution_count": 15,
   "id": "6ebd2c79-b2c9-4946-9c3c-4429d2eda295",
   "metadata": {},
   "outputs": [
    {
     "name": "stdout",
     "output_type": "stream",
     "text": [
      "\u001b[1m1/1\u001b[0m \u001b[32m━━━━━━━━━━━━━━━━━━━━\u001b[0m\u001b[37m\u001b[0m \u001b[1m0s\u001b[0m 25ms/step\n"
     ]
    },
    {
     "data": {
      "text/plain": [
       "array([[[ 0.03793674, -0.00544137,  0.03020747, -0.00450164,\n",
       "         -0.03745974, -0.0459999 ,  0.00842229, -0.0279304 ,\n",
       "          0.03503067,  0.02365658],\n",
       "        [ 0.03793674, -0.00544137,  0.03020747, -0.00450164,\n",
       "         -0.03745974, -0.0459999 ,  0.00842229, -0.0279304 ,\n",
       "          0.03503067,  0.02365658],\n",
       "        [ 0.01312562, -0.04108318, -0.04218813,  0.01870215,\n",
       "          0.02652199,  0.04785954,  0.04404831,  0.03030975,\n",
       "         -0.02701105,  0.03955773],\n",
       "        [ 0.00477004, -0.0106319 , -0.04206521,  0.04322568,\n",
       "         -0.04422997,  0.01004206,  0.01550705, -0.01431649,\n",
       "         -0.00134368, -0.02682042],\n",
       "        [ 0.03793499,  0.03203941,  0.02751185, -0.03796834,\n",
       "          0.01798466,  0.02431564,  0.00730274,  0.01921898,\n",
       "          0.04208549,  0.00884337],\n",
       "        [-0.00835877,  0.0484154 ,  0.03301672,  0.04049191,\n",
       "         -0.04649616, -0.01051791, -0.03517537,  0.04102311,\n",
       "          0.03111162,  0.00621202]],\n",
       "\n",
       "       [[ 0.03793674, -0.00544137,  0.03020747, -0.00450164,\n",
       "         -0.03745974, -0.0459999 ,  0.00842229, -0.0279304 ,\n",
       "          0.03503067,  0.02365658],\n",
       "        [ 0.03793674, -0.00544137,  0.03020747, -0.00450164,\n",
       "         -0.03745974, -0.0459999 ,  0.00842229, -0.0279304 ,\n",
       "          0.03503067,  0.02365658],\n",
       "        [ 0.01312562, -0.04108318, -0.04218813,  0.01870215,\n",
       "          0.02652199,  0.04785954,  0.04404831,  0.03030975,\n",
       "         -0.02701105,  0.03955773],\n",
       "        [ 0.00477004, -0.0106319 , -0.04206521,  0.04322568,\n",
       "         -0.04422997,  0.01004206,  0.01550705, -0.01431649,\n",
       "         -0.00134368, -0.02682042],\n",
       "        [ 0.03793499,  0.03203941,  0.02751185, -0.03796834,\n",
       "          0.01798466,  0.02431564,  0.00730274,  0.01921898,\n",
       "          0.04208549,  0.00884337],\n",
       "        [-0.00082027,  0.0141708 ,  0.03565684,  0.00507414,\n",
       "          0.01015579,  0.03214388,  0.02091375,  0.03204317,\n",
       "          0.02716819, -0.03081292]],\n",
       "\n",
       "       [[ 0.03793674, -0.00544137,  0.03020747, -0.00450164,\n",
       "         -0.03745974, -0.0459999 ,  0.00842229, -0.0279304 ,\n",
       "          0.03503067,  0.02365658],\n",
       "        [ 0.03793674, -0.00544137,  0.03020747, -0.00450164,\n",
       "         -0.03745974, -0.0459999 ,  0.00842229, -0.0279304 ,\n",
       "          0.03503067,  0.02365658],\n",
       "        [ 0.01312562, -0.04108318, -0.04218813,  0.01870215,\n",
       "          0.02652199,  0.04785954,  0.04404831,  0.03030975,\n",
       "         -0.02701105,  0.03955773],\n",
       "        [ 0.04476993,  0.02933364, -0.04514236,  0.00335389,\n",
       "          0.00783471, -0.02368291, -0.00523069,  0.0471778 ,\n",
       "         -0.01804534,  0.00799048],\n",
       "        [ 0.03793499,  0.03203941,  0.02751185, -0.03796834,\n",
       "          0.01798466,  0.02431564,  0.00730274,  0.01921898,\n",
       "          0.04208549,  0.00884337],\n",
       "        [ 0.04683376,  0.02952703,  0.0024646 , -0.0043236 ,\n",
       "         -0.01022558,  0.00041189, -0.02791226, -0.02326081,\n",
       "          0.04812023,  0.03652475]],\n",
       "\n",
       "       [[ 0.03793674, -0.00544137,  0.03020747, -0.00450164,\n",
       "         -0.03745974, -0.0459999 ,  0.00842229, -0.0279304 ,\n",
       "          0.03503067,  0.02365658],\n",
       "        [-0.01565905,  0.01589142,  0.04245638,  0.02422369,\n",
       "          0.00740805,  0.04488185,  0.04809039,  0.02485004,\n",
       "          0.0455907 ,  0.02331099],\n",
       "        [-0.02985585, -0.03301047,  0.03187069, -0.01366577,\n",
       "          0.02902588, -0.00724561, -0.04487019,  0.01685445,\n",
       "          0.01532921, -0.02303999],\n",
       "        [ 0.01411195,  0.02829314, -0.03978938, -0.01047904,\n",
       "         -0.043076  ,  0.01022504, -0.01083531,  0.02455558,\n",
       "          0.01142323,  0.04498193],\n",
       "        [ 0.02909268, -0.00405758, -0.04015336,  0.01978267,\n",
       "          0.00522427, -0.0374276 , -0.01659495, -0.02175702,\n",
       "          0.03277934,  0.04481368],\n",
       "        [-0.0327688 , -0.00389711, -0.00538256,  0.01394809,\n",
       "         -0.03944422,  0.01935864,  0.00674665, -0.02587385,\n",
       "         -0.01120151, -0.02411221]],\n",
       "\n",
       "       [[ 0.03793674, -0.00544137,  0.03020747, -0.00450164,\n",
       "         -0.03745974, -0.0459999 ,  0.00842229, -0.0279304 ,\n",
       "          0.03503067,  0.02365658],\n",
       "        [-0.01565905,  0.01589142,  0.04245638,  0.02422369,\n",
       "          0.00740805,  0.04488185,  0.04809039,  0.02485004,\n",
       "          0.0455907 ,  0.02331099],\n",
       "        [-0.02985585, -0.03301047,  0.03187069, -0.01366577,\n",
       "          0.02902588, -0.00724561, -0.04487019,  0.01685445,\n",
       "          0.01532921, -0.02303999],\n",
       "        [ 0.01411195,  0.02829314, -0.03978938, -0.01047904,\n",
       "         -0.043076  ,  0.01022504, -0.01083531,  0.02455558,\n",
       "          0.01142323,  0.04498193],\n",
       "        [ 0.02909268, -0.00405758, -0.04015336,  0.01978267,\n",
       "          0.00522427, -0.0374276 , -0.01659495, -0.02175702,\n",
       "          0.03277934,  0.04481368],\n",
       "        [ 0.03927845,  0.03178502,  0.0207997 ,  0.01703836,\n",
       "          0.02392447, -0.0197538 ,  0.04163349, -0.00546562,\n",
       "          0.02324972, -0.04295356]],\n",
       "\n",
       "       [[ 0.03793674, -0.00544137,  0.03020747, -0.00450164,\n",
       "         -0.03745974, -0.0459999 ,  0.00842229, -0.0279304 ,\n",
       "          0.03503067,  0.02365658],\n",
       "        [-0.01074589,  0.02688927,  0.0202188 ,  0.02500049,\n",
       "         -0.03895573, -0.04040022,  0.04346932,  0.04230234,\n",
       "         -0.02106631,  0.01674831],\n",
       "        [ 0.01312562, -0.04108318, -0.04218813,  0.01870215,\n",
       "          0.02652199,  0.04785954,  0.04404831,  0.03030975,\n",
       "         -0.02701105,  0.03955773],\n",
       "        [ 0.04421798,  0.03702036,  0.04944466, -0.03505429,\n",
       "          0.03222341, -0.03269594,  0.00025203, -0.04962232,\n",
       "          0.04573921,  0.01838491],\n",
       "        [ 0.03793499,  0.03203941,  0.02751185, -0.03796834,\n",
       "          0.01798466,  0.02431564,  0.00730274,  0.01921898,\n",
       "          0.04208549,  0.00884337],\n",
       "        [ 0.02823834, -0.00649892,  0.00148619,  0.04603516,\n",
       "          0.00935874, -0.03980948, -0.03123052, -0.04374054,\n",
       "          0.01084799, -0.00904556]],\n",
       "\n",
       "       [[ 0.03793674, -0.00544137,  0.03020747, -0.00450164,\n",
       "         -0.03745974, -0.0459999 ,  0.00842229, -0.0279304 ,\n",
       "          0.03503067,  0.02365658],\n",
       "        [ 0.03793674, -0.00544137,  0.03020747, -0.00450164,\n",
       "         -0.03745974, -0.0459999 ,  0.00842229, -0.0279304 ,\n",
       "          0.03503067,  0.02365658],\n",
       "        [-0.0239529 , -0.00289734,  0.04810491,  0.02443555,\n",
       "         -0.00635095, -0.03024882, -0.04530823, -0.00837277,\n",
       "         -0.03100644, -0.04980114],\n",
       "        [ 0.03362907,  0.03651685,  0.03628179,  0.0235232 ,\n",
       "          0.02657808,  0.01665388,  0.02894428,  0.02290716,\n",
       "          0.03457585, -0.04766713],\n",
       "        [ 0.04021274, -0.00234286, -0.01396264, -0.04968972,\n",
       "         -0.04778166,  0.0104364 ,  0.02161375, -0.02231703,\n",
       "         -0.02592263, -0.03815937],\n",
       "        [ 0.02909268, -0.00405758, -0.04015336,  0.01978267,\n",
       "          0.00522427, -0.0374276 , -0.01659495, -0.02175702,\n",
       "          0.03277934,  0.04481368]]], dtype=float32)"
      ]
     },
     "execution_count": 15,
     "metadata": {},
     "output_type": "execute_result"
    }
   ],
   "source": [
    "model.predict(embedded_doc)"
   ]
  },
  {
   "cell_type": "code",
   "execution_count": null,
   "id": "38dbd5a0-a04c-4c98-9634-95e0704f5357",
   "metadata": {},
   "outputs": [],
   "source": []
  },
  {
   "cell_type": "code",
   "execution_count": null,
   "id": "bef1e440-46ae-47bf-a900-393068fa9048",
   "metadata": {},
   "outputs": [],
   "source": []
  },
  {
   "cell_type": "code",
   "execution_count": null,
   "id": "d8c13594-a5e6-46c0-a7cb-b3df70c962b8",
   "metadata": {},
   "outputs": [],
   "source": []
  }
 ],
 "metadata": {
  "kernelspec": {
   "display_name": "Python 3 (ipykernel)",
   "language": "python",
   "name": "python3"
  },
  "language_info": {
   "codemirror_mode": {
    "name": "ipython",
    "version": 3
   },
   "file_extension": ".py",
   "mimetype": "text/x-python",
   "name": "python",
   "nbconvert_exporter": "python",
   "pygments_lexer": "ipython3",
   "version": "3.10.13"
  }
 },
 "nbformat": 4,
 "nbformat_minor": 5
}
